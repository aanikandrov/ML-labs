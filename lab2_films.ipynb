{
  "nbformat": 4,
  "nbformat_minor": 0,
  "metadata": {
    "colab": {
      "provenance": []
    },
    "kernelspec": {
      "name": "python3",
      "display_name": "Python 3"
    },
    "language_info": {
      "name": "python"
    }
  },
  "cells": [
    {
      "cell_type": "code",
      "source": [
        "from sklearn.model_selection import train_test_split\n",
        "from sklearn.model_selection import cross_val_score\n",
        "\n",
        "from sklearn.metrics import mean_absolute_error\n",
        "\n",
        "from sklearn.preprocessing import OneHotEncoder\n",
        "from sklearn.preprocessing import OrdinalEncoder\n",
        "from sklearn.compose import ColumnTransformer\n",
        "from sklearn.impute import SimpleImputer\n",
        "from sklearn.pipeline import Pipeline\n",
        "from xgboost import XGBRegressor\n",
        "from sklearn.linear_model import SGDClassifier\n",
        "\n",
        "from sklearn.ensemble import RandomForestRegressor\n",
        "from sklearn.ensemble import RandomForestClassifier\n",
        "\n",
        "import pandas as pd\n",
        "import sklearn as sk\n",
        "import numpy as np"
      ],
      "metadata": {
        "id": "kSZRK8qU7O0z"
      },
      "execution_count": null,
      "outputs": []
    },
    {
      "cell_type": "code",
      "source": [
        "df = pd.read_csv(\"/content/drive/MyDrive/Colab Notebooks/imdb.csv\")\n",
        "# df = df[:100]\n",
        "\n",
        "df['Votes'] = df['Votes'].replace('No Votes', np.nan)\n",
        "df['Rate'] = df['Rate'].replace('No Rate', np.nan)\n",
        "df = df.dropna(subset=['Rate'])\n",
        "# Votes записано как 1,000 -> преобразуем в 1000.0\n",
        "df.Votes = df.Votes.str.replace(',', '', regex=False).astype(float)\n",
        "df.Rate = df.Rate.astype(float)\n",
        "\n",
        "print(df.columns)\n",
        "print(df.Rate)\n"
      ],
      "metadata": {
        "colab": {
          "base_uri": "https://localhost:8080/"
        },
        "id": "v38T_tu8kDnr",
        "outputId": "ab06bf79-9c95-45ae-8a85-c81d3fa88fec"
      },
      "execution_count": null,
      "outputs": [
        {
          "output_type": "stream",
          "name": "stdout",
          "text": [
            "Index(['Name', 'Date', 'Rate', 'Votes', 'Genre', 'Duration', 'Type',\n",
            "       'Certificate', 'Episodes', 'Nudity', 'Violence', 'Profanity', 'Alcohol',\n",
            "       'Frightening'],\n",
            "      dtype='object')\n",
            "0       7.6\n",
            "1       6.3\n",
            "2       6.4\n",
            "3       6.4\n",
            "4       8.3\n",
            "       ... \n",
            "6173    3.8\n",
            "6174    8.3\n",
            "6175    7.3\n",
            "6176    6.0\n",
            "6177    6.3\n",
            "Name: Rate, Length: 5993, dtype: float64\n"
          ]
        }
      ]
    },
    {
      "cell_type": "code",
      "source": [
        "print(df.nunique()[df.nunique() < 8])"
      ],
      "metadata": {
        "colab": {
          "base_uri": "https://localhost:8080/"
        },
        "id": "mBWl4ymcnW0P",
        "outputId": "cf2ded94-9641-407d-9666-9c4c6573bc0d"
      },
      "execution_count": null,
      "outputs": [
        {
          "output_type": "stream",
          "name": "stdout",
          "text": [
            "Type           2\n",
            "Nudity         4\n",
            "Violence       4\n",
            "Profanity      4\n",
            "Alcohol        4\n",
            "Frightening    4\n",
            "dtype: int64\n"
          ]
        }
      ]
    },
    {
      "cell_type": "code",
      "source": [
        "print(df.isnull().sum()[df.isnull().sum() > 0])"
      ],
      "metadata": {
        "colab": {
          "base_uri": "https://localhost:8080/"
        },
        "id": "_bF0wJFkfa9N",
        "outputId": "286280fe-9d32-47ee-b4b2-08afe52c3691"
      },
      "execution_count": null,
      "outputs": [
        {
          "output_type": "stream",
          "name": "stdout",
          "text": [
            "Duration        147\n",
            "Certificate     300\n",
            "Nudity         1459\n",
            "Violence        674\n",
            "Profanity       658\n",
            "Alcohol         771\n",
            "Frightening     858\n",
            "dtype: int64\n"
          ]
        }
      ]
    },
    {
      "cell_type": "code",
      "execution_count": null,
      "metadata": {
        "id": "JjlwVh91XVW-",
        "colab": {
          "base_uri": "https://localhost:8080/"
        },
        "outputId": "1a9fd8b7-a538-47ba-d163-74225976035e"
      },
      "outputs": [
        {
          "output_type": "stream",
          "name": "stdout",
          "text": [
            "['Type', 'Nudity', 'Violence', 'Profanity', 'Alcohol', 'Frightening']\n",
            "['Duration', 'Votes']\n"
          ]
        }
      ],
      "source": [
        "features_num = ['Duration', 'Votes']\n",
        "\n",
        "# Выбираем категориальные столбцы с низкой кардинальностью\n",
        "features_cat = [cname for cname in df.columns\n",
        "                        if df[cname].nunique() < 8 and\n",
        "                        df[cname].dtype == \"object\"]\n",
        "print(features_cat)\n",
        "print(features_num)\n",
        "\n",
        "features = features_cat + features_num\n",
        "\n",
        "X = df[features]\n",
        "X_cat = df[features_cat]\n",
        "X_num = df[features_num]\n",
        "\n",
        "\n",
        "y = df.Rate\n",
        "results = {}"
      ]
    },
    {
      "cell_type": "code",
      "source": [
        "# Функция проверки эффективности модели\n",
        "def score_dataset(X_train, X_test, y_train, y_test):\n",
        "    model = RandomForestRegressor(n_estimators=10, random_state=0)\n",
        "    model.fit(X_train, y_train)\n",
        "    preds = model.predict(X_test)\n",
        "    return mean_absolute_error(y_test, preds)"
      ],
      "metadata": {
        "id": "3q8zutNFetYq"
      },
      "execution_count": null,
      "outputs": []
    },
    {
      "cell_type": "code",
      "source": [
        "X_num = df[features_num]\n",
        "\n",
        "X_num_train, X_num_test, y_num_train, y_num_test = train_test_split(X_num, y, train_size=0.8, test_size=0.2,\n",
        "                                                      random_state=0, shuffle=True)\n",
        "\n",
        "num_cols_with_missing = [col for col in X_num_train.columns\n",
        "                     if X_num_train[col].isnull().any()]\n",
        "\n",
        "reduced_X_train = X_num_train.drop(num_cols_with_missing, axis=1)\n",
        "reduced_X_test = X_num_test.drop(num_cols_with_missing, axis=1)\n",
        "\n",
        "MAE_num_delete = score_dataset(reduced_X_train, reduced_X_test, y_num_train, y_num_test)\n",
        "print(f\"MAE (Удаление столбцов):   {MAE_num_delete:.4f}\")\n",
        "results['(num) Удаление столбцов'] = MAE_num_delete"
      ],
      "metadata": {
        "id": "zc64h4UeC09x",
        "colab": {
          "base_uri": "https://localhost:8080/"
        },
        "outputId": "c0192da2-7211-43f8-dfa7-4c3ab4115162"
      },
      "execution_count": null,
      "outputs": [
        {
          "output_type": "stream",
          "name": "stdout",
          "text": [
            "MAE (Удаление столбцов):   0.8276\n"
          ]
        }
      ]
    },
    {
      "cell_type": "code",
      "source": [
        "# б) Меняем пропуски на наиболее частые значения\n",
        "\n",
        "imputer = SimpleImputer(strategy=\"most_frequent\")\n",
        "imputer.fit(X_num)\n",
        "\n",
        "imputed_X_train = pd.DataFrame(imputer.transform(X_num_train))\n",
        "imputed_X_test = pd.DataFrame(imputer.transform(X_num_test))\n",
        "\n",
        "# Возвращаем названия исходных столбцов - тк меняются на 0, 1, 2...\n",
        "imputed_X_train.columns = X_num_train.columns\n",
        "imputed_X_test.columns = X_num_test.columns\n",
        "\n",
        "MAE_num_insert = score_dataset(imputed_X_train, imputed_X_test, y_num_train, y_num_test)\n",
        "print(f\"MAE (Вставка):   {MAE_num_insert:.4f}\")\n",
        "results['(num) Вставка'] = MAE_num_insert"
      ],
      "metadata": {
        "colab": {
          "base_uri": "https://localhost:8080/"
        },
        "id": "XiVk_Rs_8OSq",
        "outputId": "5cdf378b-5c01-4031-bfc0-f343e6be3cdc"
      },
      "execution_count": null,
      "outputs": [
        {
          "output_type": "stream",
          "name": "stdout",
          "text": [
            "MAE (Вставка):   0.5967\n"
          ]
        }
      ]
    },
    {
      "cell_type": "code",
      "source": [
        "# в) Меняем пропуски и + добавляем столбцы\n",
        "\n",
        "X_train_extend = X_num_train.copy()\n",
        "X_test_extend = X_num_test.copy()\n",
        "\n",
        "# Создаем столбцы. Значение True если изначальное значение было пропущено\n",
        "for col in num_cols_with_missing:\n",
        "    X_train_extend[col + '_was_missing'] = X_train_extend[col].isnull()\n",
        "    X_test_extend[col + '_was_missing'] = X_test_extend[col].isnull()\n",
        "\n",
        "imputer = SimpleImputer(strategy=\"most_frequent\")\n",
        "imputed_X_train_extend = pd.DataFrame(imputer.fit_transform(X_train_extend))\n",
        "imputed_X_test_extend = pd.DataFrame(imputer.transform(X_test_extend))\n",
        "\n",
        "# Возвращаем названия исходных столбцов - тк меняются на 0, 1, 2...\n",
        "imputed_X_train_extend.columns = X_train_extend.columns\n",
        "imputed_X_test_extend.columns = X_test_extend.columns\n",
        "\n",
        "MAE_num_insert_2 = score_dataset(imputed_X_train_extend, imputed_X_test_extend, y_num_train, y_num_test)\n",
        "print(f\"MAE (Расширенная вставка):   {MAE_num_insert_2:.4f}\")\n",
        "results['(num) Расширенная вставка'] = MAE_num_insert_2"
      ],
      "metadata": {
        "colab": {
          "base_uri": "https://localhost:8080/"
        },
        "id": "l1yQU9ziCnlj",
        "outputId": "2ba8e421-763e-4c49-efa3-aafd7a2114eb"
      },
      "execution_count": null,
      "outputs": [
        {
          "output_type": "stream",
          "name": "stdout",
          "text": [
            "MAE (Расширенная вставка):   0.5950\n"
          ]
        }
      ]
    },
    {
      "cell_type": "code",
      "source": [
        "\n",
        "# a) Удаляем столбцы с пропусками\n",
        "\n",
        "# Разделяем на обучающий и тестовый набор\n",
        "X_train_full, X_test_full, y_train, y_test =\\\n",
        "    train_test_split(X, y, train_size=0.8, test_size=0.2, random_state=0)\n",
        "\n",
        "# Удаляем столбцы с недостающими значениями (самый простой подход)\n",
        "cols_with_missing = X_train_full.columns[X_train_full.isnull().any()]\n",
        "\n",
        "X_train_full.drop(cols_with_missing, axis=1, inplace=True)\n",
        "X_test_full.drop(cols_with_missing, axis=1, inplace=True)\n",
        "\n",
        "\n",
        "cardinality_cols = [cname for cname in X_train_full.columns\n",
        "                        if X_train_full[cname].nunique() < 8 and\n",
        "                        X_train_full[cname].dtype == \"object\"]\n",
        "\n",
        "numerical_cols = [cname for cname in X_train_full.columns\n",
        "                  if X_train_full[cname].dtype in ['int64', 'float64']]\n",
        "\n",
        "my_cols = cardinality_cols + numerical_cols\n",
        "X_train = X_train_full[my_cols].copy()\n",
        "X_test = X_test_full[my_cols].copy()\n",
        "\n",
        "drop_X_train = X_train.select_dtypes(exclude=['object'])\n",
        "drop_X_test = X_test.select_dtypes(exclude=['object'])\n",
        "\n",
        "MAE_cat_delete = score_dataset(drop_X_train, drop_X_test, y_train, y_test)\n",
        "print(f\"MAE (Удаление категориальных данных):   {MAE_cat_delete:.4f}\")\n",
        "results['(cat) Удаление данных'] = MAE_cat_delete"
      ],
      "metadata": {
        "colab": {
          "base_uri": "https://localhost:8080/"
        },
        "id": "Ucg0G16n8Ozj",
        "outputId": "a8200202-c780-4f00-9e66-df0d3a78fdd9"
      },
      "execution_count": null,
      "outputs": [
        {
          "output_type": "stream",
          "name": "stdout",
          "text": [
            "MAE (Удаление категориальных данных):   0.8276\n"
          ]
        }
      ]
    },
    {
      "cell_type": "code",
      "source": [
        "s = (X_train.dtypes == 'object')\n",
        "object_cols = list(s[s].index)\n",
        "\n",
        "# Создаем копию, чтобы не испортить исходные данные\n",
        "label_X_train = X_train.copy()\n",
        "label_X_test = X_test.copy()\n",
        "\n",
        "\n",
        "type1 = label_X_test['Type'].copy()\n",
        "\n",
        "# Применяем упорядоченную кодировку к категориальным данным\n",
        "ordinal_encoder = OrdinalEncoder()\n",
        "label_X_train[(object_cols)] = ordinal_encoder.fit_transform(X_train[(object_cols)])\n",
        "label_X_test[(object_cols)] = ordinal_encoder.transform(X_test[(object_cols)])\n",
        "\n",
        "type2 = label_X_test['Type'].copy()\n",
        "comparison_df = pd.DataFrame({\n",
        "    'Type1': type1,\n",
        "    'Type2': type2\n",
        "})\n",
        "print(comparison_df.head())\n",
        "\n",
        "MAE_coding = score_dataset(label_X_train, label_X_test, y_train, y_test)\n",
        "print(f\"MAE (Упорядоченное кодирование):   {MAE_coding:.4f}\")\n",
        "results['(cat) Упорядоченное кодирование'] = MAE_coding"
      ],
      "metadata": {
        "colab": {
          "base_uri": "https://localhost:8080/"
        },
        "id": "pNeqvJ198cik",
        "outputId": "61b4a1f7-4158-42b4-f475-15d14989627e"
      },
      "execution_count": null,
      "outputs": [
        {
          "output_type": "stream",
          "name": "stdout",
          "text": [
            "       Type1  Type2\n",
            "5257    Film    0.0\n",
            "560     Film    0.0\n",
            "5653  Series    1.0\n",
            "1858    Film    0.0\n",
            "2775    Film    0.0\n",
            "MAE (Упорядоченное кодирование):   0.6672\n"
          ]
        }
      ]
    },
    {
      "cell_type": "code",
      "source": [
        "# Кодирование категориальных признаков с помощью OneHotEncoder\n",
        "OH_encoder = OneHotEncoder(handle_unknown='ignore', sparse_output=False)\n",
        "\n",
        "# Применяем кодирование\n",
        "OH_cols_train = pd.DataFrame(OH_encoder.fit_transform(X_train[object_cols]), index=X_train.index)\n",
        "OH_cols_test = pd.DataFrame(OH_encoder.transform(X_test[object_cols]), index=X_test.index)\n",
        "\n",
        "# Удаляем категориальные столбцы и объединяем с закодированными\n",
        "num_X_train = X_train.drop(object_cols, axis=1)\n",
        "num_X_test = X_test.drop(object_cols, axis=1)\n",
        "\n",
        "OH_X_train = pd.concat([num_X_train, OH_cols_train], axis=1)\n",
        "OH_X_test = pd.concat([num_X_test, OH_cols_test], axis=1)\n",
        "\n",
        "# Приводим имена столбцов к строковому типу\n",
        "OH_X_train.columns = OH_X_train.columns.astype(str)\n",
        "OH_X_test.columns = OH_X_test.columns.astype(str)\n",
        "\n",
        "MAE_coding_OH = score_dataset(OH_X_train, OH_X_test, y_train, y_test)\n",
        "print(f\"MAE (Прямое кодирование):   {MAE_coding_OH:.4f}\")\n",
        "results['(cat) Прямое кодирование'] = MAE_coding_OH"
      ],
      "metadata": {
        "colab": {
          "base_uri": "https://localhost:8080/"
        },
        "id": "uAULKjryCNS8",
        "outputId": "6b92e026-2c7f-4945-f2b4-0b9c7410f630"
      },
      "execution_count": null,
      "outputs": [
        {
          "output_type": "stream",
          "name": "stdout",
          "text": [
            "MAE (Прямое кодирование):   0.6672\n"
          ]
        }
      ]
    },
    {
      "cell_type": "code",
      "source": [
        "print(\"Результаты:\")\n",
        "max_length = max(len(key) for key in results.keys())\n",
        "for key, value in results.items():\n",
        "    print(f\"{key.ljust(max_length)} : {value:.4f}\")"
      ],
      "metadata": {
        "colab": {
          "base_uri": "https://localhost:8080/"
        },
        "id": "NIMK3RTPpOk3",
        "outputId": "b6c79e3c-13cb-4bc0-b8cc-7d347e9003e3"
      },
      "execution_count": null,
      "outputs": [
        {
          "output_type": "stream",
          "name": "stdout",
          "text": [
            "Результаты:\n",
            "(num) Удаление столбцов         : 0.8276\n",
            "(num) Вставка                   : 0.5967\n",
            "(num) Расширенная вставка       : 0.5950\n",
            "(cat) Удаление данных           : 0.8276\n",
            "(cat) Упорядоченное кодирование : 0.6672\n",
            "(cat) Прямое кодирование        : 0.6672\n"
          ]
        }
      ]
    },
    {
      "cell_type": "code",
      "source": [
        "numerical_transformer = SimpleImputer(strategy='most_frequent')\n",
        "\n",
        "categorical_transformer = Pipeline(\n",
        "    steps=[\n",
        "        ('imputer', SimpleImputer(strategy='most_frequent')),\n",
        "        ('onehot', OneHotEncoder(handle_unknown='ignore', sparse_output=False))])\n",
        "\n",
        "preprocessor = ColumnTransformer(\n",
        "    transformers=[\n",
        "        ('num', numerical_transformer, features_num),\n",
        "        ('cat', categorical_transformer, features_cat)])\n"
      ],
      "metadata": {
        "id": "5G8XZ_flbjbC"
      },
      "execution_count": null,
      "outputs": []
    },
    {
      "cell_type": "code",
      "source": [
        "X_train, X_valid, y_train, y_valid = train_test_split(X, y, train_size=0.8, random_state=0)\n",
        "\n",
        "def evaluate_model(pipeline):\n",
        "    pipeline.fit(X_train, y_train)\n",
        "    score = pipeline.score(X_valid, y_valid)\n",
        "    return score\n",
        "\n",
        "\n",
        "# Случайный лес\n",
        "pipeline_rf = Pipeline(steps=[\n",
        "    ('preprocessor', preprocessor),\n",
        "    ('model', RandomForestRegressor(random_state=0))\n",
        "])\n",
        "\n",
        "rf_score = evaluate_model(pipeline_rf)\n",
        "print(f\"Случайный лес:   \\t{rf_score:.4f}\")\n",
        "\n",
        "\n",
        "\n",
        "\n",
        "# Случайный  лес с кросс-валидацией\n",
        "pipeline_rf_cv = Pipeline(steps=[\n",
        "    ('preprocessor', preprocessor),\n",
        "    ('model', RandomForestRegressor(random_state=0))\n",
        "])\n",
        "rf_cv_score = cross_val_score(pipeline_rf_cv, X, y, cv=5).mean()\n",
        "print(f\"Случайный лес cross-val: {rf_cv_score:.4f}\")\n",
        "\n",
        "\n",
        "\n",
        "# Градиентный бустинг\n",
        "pipeline_xgb = Pipeline(steps=[\n",
        "    ('preprocessor', preprocessor),\n",
        "    ('model', XGBRegressor(random_state=0))\n",
        "])\n",
        "\n",
        "xgb_score = evaluate_model(pipeline_xgb)\n",
        "print(f\"Градиентный бустинг:   \\t{xgb_score:.4f}\")\n"
      ],
      "metadata": {
        "id": "GKr4ZyUeb4vl",
        "colab": {
          "base_uri": "https://localhost:8080/"
        },
        "outputId": "33f1517d-2614-4325-a7a0-573eb7039916"
      },
      "execution_count": null,
      "outputs": [
        {
          "output_type": "stream",
          "name": "stdout",
          "text": [
            "Случайный лес:   \t0.5705\n",
            "Случайный лес cross-val: 0.5152\n",
            "Градиентный бустинг:   \t0.4921\n"
          ]
        }
      ]
    }
  ]
}