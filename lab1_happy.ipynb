{
  "nbformat": 4,
  "nbformat_minor": 0,
  "metadata": {
    "colab": {
      "provenance": []
    },
    "kernelspec": {
      "name": "python3",
      "display_name": "Python 3"
    },
    "language_info": {
      "name": "python"
    }
  },
  "cells": [
    {
      "cell_type": "code",
      "execution_count": null,
      "metadata": {
        "colab": {
          "base_uri": "https://localhost:8080/"
        },
        "id": "aXWVmq3NJ0Jb",
        "outputId": "f79ca651-713f-4f6f-b1d1-fe7b4c0af5cd"
      },
      "outputs": [
        {
          "output_type": "stream",
          "name": "stdout",
          "text": [
            "Размер:  12 \n",
            "\n",
            "  Country name            Regional indicator  Ladder score  upperwhisker  \\\n",
            "0      Finland                Western Europe         7.741         7.815   \n",
            "1      Denmark                Western Europe         7.583         7.665   \n",
            "2      Iceland                Western Europe         7.525         7.618   \n",
            "3       Sweden                Western Europe         7.344         7.422   \n",
            "4       Israel  Middle East and North Africa         7.341         7.405   \n",
            "\n",
            "   lowerwhisker  Log GDP per capita  Social support  Healthy life expectancy  \\\n",
            "0         7.667               1.844           1.572                    0.695   \n",
            "1         7.500               1.908           1.520                    0.699   \n",
            "2         7.433               1.881           1.617                    0.718   \n",
            "3         7.267               1.878           1.501                    0.724   \n",
            "4         7.277               1.803           1.513                    0.740   \n",
            "\n",
            "   Freedom to make life choices  Generosity  Perceptions of corruption  \\\n",
            "0                         0.859       0.142                      0.546   \n",
            "1                         0.823       0.204                      0.548   \n",
            "2                         0.819       0.258                      0.182   \n",
            "3                         0.838       0.221                      0.524   \n",
            "4                         0.641       0.153                      0.193   \n",
            "\n",
            "   Dystopia + residual  \n",
            "0                2.082  \n",
            "1                1.881  \n",
            "2                2.050  \n",
            "3                1.658  \n",
            "4                2.298  \n"
          ]
        }
      ],
      "source": [
        "import pandas as pd\n",
        "import numpy as np\n",
        "\n",
        "data_file_path = '/content/World-happiness-report-2024.csv'\n",
        "df = pd.read_csv(data_file_path)\n",
        "\n",
        "print(\"Размер: \", len(df.columns), \"\\n\")\n",
        "print(df.head())"
      ]
    },
    {
      "cell_type": "code",
      "source": [
        "print(df.describe())"
      ],
      "metadata": {
        "colab": {
          "base_uri": "https://localhost:8080/"
        },
        "id": "pDu8Zr2iCFjN",
        "outputId": "76894d98-ba43-4d93-ad08-d8c253b21532"
      },
      "execution_count": null,
      "outputs": [
        {
          "output_type": "stream",
          "name": "stdout",
          "text": [
            "       Ladder score  upperwhisker  lowerwhisker  Log GDP per capita  \\\n",
            "count    143.000000    143.000000    143.000000          140.000000   \n",
            "mean       5.527580      5.641175      5.413972            1.378807   \n",
            "std        1.170717      1.155008      1.187133            0.425098   \n",
            "min        1.721000      1.775000      1.667000            0.000000   \n",
            "25%        4.726000      4.845500      4.606000            1.077750   \n",
            "50%        5.785000      5.895000      5.674000            1.431500   \n",
            "75%        6.416000      6.507500      6.319000            1.741500   \n",
            "max        7.741000      7.815000      7.667000            2.141000   \n",
            "\n",
            "       Social support  Healthy life expectancy  Freedom to make life choices  \\\n",
            "count      140.000000               140.000000                    140.000000   \n",
            "mean         1.134329                 0.520886                      0.620621   \n",
            "std          0.333317                 0.164923                      0.162492   \n",
            "min          0.000000                 0.000000                      0.000000   \n",
            "25%          0.921750                 0.398000                      0.527500   \n",
            "50%          1.237500                 0.549500                      0.641000   \n",
            "75%          1.383250                 0.648500                      0.736000   \n",
            "max          1.617000                 0.857000                      0.863000   \n",
            "\n",
            "       Generosity  Perceptions of corruption  Dystopia + residual  \n",
            "count  140.000000                 140.000000           140.000000  \n",
            "mean     0.146271                   0.154121             1.575914  \n",
            "std      0.073441                   0.126238             0.537459  \n",
            "min      0.000000                   0.000000            -0.073000  \n",
            "25%      0.091000                   0.068750             1.308250  \n",
            "50%      0.136500                   0.120500             1.644500  \n",
            "75%      0.192500                   0.193750             1.881750  \n",
            "max      0.401000                   0.575000             2.998000  \n"
          ]
        }
      ]
    },
    {
      "cell_type": "code",
      "source": [
        "print(df.columns)"
      ],
      "metadata": {
        "colab": {
          "base_uri": "https://localhost:8080/"
        },
        "id": "rOjQujmKsF7C",
        "outputId": "2e0df0fc-5377-41bd-96b3-15f0b6dba2f3"
      },
      "execution_count": null,
      "outputs": [
        {
          "output_type": "stream",
          "name": "stdout",
          "text": [
            "Index(['Country name', 'Regional indicator', 'Ladder score', 'upperwhisker',\n",
            "       'lowerwhisker', 'Log GDP per capita', 'Social support',\n",
            "       'Healthy life expectancy', 'Freedom to make life choices', 'Generosity',\n",
            "       'Perceptions of corruption', 'Dystopia + residual'],\n",
            "      dtype='object')\n"
          ]
        }
      ]
    },
    {
      "cell_type": "code",
      "source": [
        "features = ['Log GDP per capita', 'Social support',\n",
        "            'Healthy life expectancy', 'Freedom to make life choices']\n",
        "\n",
        "print(len(df))\n",
        "df = df.dropna(subset=features)\n",
        "print(len(df))\n",
        "\n",
        "y = df['Ladder score']\n",
        "X = df[features]"
      ],
      "metadata": {
        "colab": {
          "base_uri": "https://localhost:8080/"
        },
        "id": "azc62a26rhJ3",
        "outputId": "fa331012-a8a2-4a6f-d479-523cd1294889"
      },
      "execution_count": null,
      "outputs": [
        {
          "output_type": "stream",
          "name": "stdout",
          "text": [
            "143\n",
            "140\n"
          ]
        }
      ]
    },
    {
      "cell_type": "code",
      "source": [
        "from sklearn.tree import DecisionTreeRegressor\n",
        "from sklearn.metrics import mean_absolute_error\n",
        "from sklearn.model_selection import train_test_split\n",
        "\n",
        "train_X, val_X, train_y, val_y = train_test_split(X, y, train_size=0.67)\n",
        "\n",
        "tree_split = DecisionTreeRegressor(random_state=1)\n",
        "tree_split.fit(train_X, train_y)\n",
        "\n",
        "predicted_happy = tree_split.predict(val_X)\n",
        "\n",
        "MAE_split = mean_absolute_error(val_y, predicted_happy)\n",
        "print(\"MAE split:\", f'{MAE_split:.4f}')\n",
        "results = {\"tr-test split\" : MAE_split}"
      ],
      "metadata": {
        "colab": {
          "base_uri": "https://localhost:8080/"
        },
        "id": "Q_f0u1p7O7xX",
        "outputId": "9bcb4a51-23a4-4643-d619-cb7ede97c0d7"
      },
      "execution_count": null,
      "outputs": [
        {
          "output_type": "stream",
          "name": "stdout",
          "text": [
            "MAE split: 0.5705\n"
          ]
        }
      ]
    },
    {
      "cell_type": "code",
      "source": [
        "mae_results = {}\n",
        "\n",
        "for depth in range(2, 10):\n",
        "    model = DecisionTreeRegressor(max_depth=depth,\n",
        "                                  random_state=1)\n",
        "    model.fit(train_X, train_y)\n",
        "    y_pred = model.predict(val_X)\n",
        "\n",
        "    mae = mean_absolute_error(val_y, y_pred)\n",
        "    mae_results[depth] = mae\n",
        "    print(depth, mae)\n",
        "\n",
        "best_depth = min(mae_results, key=mae_results.get)\n",
        "MAE_depth = mae_results[best_depth]\n",
        "\n",
        "print(\"MAE depth:\", f' {MAE_depth:.4f}',\n",
        "      \"\\nГлубина дерева:\", best_depth)\n",
        "\n",
        "results[\"best_depth\"] = MAE_depth"
      ],
      "metadata": {
        "colab": {
          "base_uri": "https://localhost:8080/"
        },
        "id": "ZHEa0WhcB4T8",
        "outputId": "69d42696-ed36-4d38-9704-523df86a30bf"
      },
      "execution_count": null,
      "outputs": [
        {
          "output_type": "stream",
          "name": "stdout",
          "text": [
            "2 0.511816552395276\n",
            "3 0.5425333044752054\n",
            "4 0.5084087851041873\n",
            "5 0.5494074468085104\n",
            "6 0.5296055386693684\n",
            "7 0.5602258865248227\n",
            "8 0.5649539007092198\n",
            "9 0.546156914893617\n",
            "MAE depth:  0.5084 \n",
            "Глубина дерева: 4\n"
          ]
        }
      ]
    },
    {
      "cell_type": "code",
      "source": [
        "mae_results = {}\n",
        "\n",
        "for leaf_nodes in range(2, 15):\n",
        "    model = DecisionTreeRegressor(max_leaf_nodes=leaf_nodes,\n",
        "                                  random_state=1)\n",
        "    model.fit(train_X, train_y)\n",
        "    y_pred = model.predict(val_X)\n",
        "\n",
        "    mae = mean_absolute_error(val_y, y_pred)\n",
        "    mae_results[leaf_nodes] = mae\n",
        "\n",
        "\n",
        "best_leaf = min(mae_results, key=mae_results.get)\n",
        "MAE_leaf = mae_results[best_leaf]\n",
        "\n",
        "print(\"MAE leaf: \", f'{MAE_leaf:.4f}',\n",
        "      \"\\nОптимальное max_leaf_nodes: \", best_leaf)\n",
        "\n",
        "results[\"best_leaf\"] = MAE_leaf"
      ],
      "metadata": {
        "colab": {
          "base_uri": "https://localhost:8080/"
        },
        "id": "ZhaHCs5LPxzi",
        "outputId": "02bdc766-cce2-4b40-d9a6-9ecc55288922"
      },
      "execution_count": null,
      "outputs": [
        {
          "output_type": "stream",
          "name": "stdout",
          "text": [
            "MAE leaf:  0.4983 \n",
            "Оптимальное max_leaf_nodes:  3\n"
          ]
        }
      ]
    },
    {
      "cell_type": "code",
      "source": [
        "model = DecisionTreeRegressor(max_depth=best_depth,\n",
        "                              max_leaf_nodes=best_leaf,\n",
        "                              random_state=1)\n",
        "model.fit(train_X, train_y)\n",
        "y_pred = model.predict(val_X)\n",
        "MAE_depth_leaf = mean_absolute_error(val_y, y_pred)\n",
        "print(\"MAE при оптим парам:\", f'{MAE_depth_leaf:.4f}')\n",
        "results[\"depth leaf\"] = MAE_depth_leaf"
      ],
      "metadata": {
        "colab": {
          "base_uri": "https://localhost:8080/"
        },
        "id": "UrvXm1iOB619",
        "outputId": "07db0f0d-8353-4f48-a3ad-4e2856386286"
      },
      "execution_count": null,
      "outputs": [
        {
          "output_type": "stream",
          "name": "stdout",
          "text": [
            "MAE при оптим парам: 0.4983\n"
          ]
        }
      ]
    },
    {
      "cell_type": "code",
      "source": [
        "from sklearn.ensemble import RandomForestRegressor\n",
        "forest_model = RandomForestRegressor(random_state=1)\n",
        "forest_model.fit(train_X, train_y)\n",
        "forest_preds = forest_model.predict(val_X)\n",
        "\n",
        "MAE_RandomForest = mean_absolute_error(val_y, forest_preds)\n",
        "print(\"MAE RandomForest:\", f'{MAE_RandomForest:.4f}')\n",
        "results[\"RandomForest\"] = MAE_RandomForest"
      ],
      "metadata": {
        "colab": {
          "base_uri": "https://localhost:8080/"
        },
        "id": "9XG1L6wyRck8",
        "outputId": "1422120c-01b0-4472-c97e-ea42638fd13b"
      },
      "execution_count": null,
      "outputs": [
        {
          "output_type": "stream",
          "name": "stdout",
          "text": [
            "MAE RandomForest: 0.4644\n"
          ]
        }
      ]
    },
    {
      "cell_type": "code",
      "source": [
        "forest_params = RandomForestRegressor(max_leaf_nodes=best_leaf,\n",
        "                                      max_depth=best_depth,\n",
        "                                      random_state=1)\n",
        "forest_params.fit(train_X, train_y)\n",
        "y_pred = forest_params.predict(val_X)\n",
        "\n",
        "MAE_RandomForest_params = mean_absolute_error(val_y, y_pred)\n",
        "print(\"MAE RandomForest с параметрами:\", f'{MAE_RandomForest_params:.4f}')\n",
        "results[\"RandomForest2\"] = MAE_RandomForest_params"
      ],
      "metadata": {
        "colab": {
          "base_uri": "https://localhost:8080/"
        },
        "id": "vUDZnaq4DtB3",
        "outputId": "8ee9c5de-33ee-42cc-fab2-c149e58056db"
      },
      "execution_count": null,
      "outputs": [
        {
          "output_type": "stream",
          "name": "stdout",
          "text": [
            "MAE RandomForest с параметрами: 0.4519\n"
          ]
        }
      ]
    },
    {
      "cell_type": "code",
      "source": [
        "for key, value in results.items():\n",
        "  print(key, f'\\t{value:.4f}')"
      ],
      "metadata": {
        "colab": {
          "base_uri": "https://localhost:8080/"
        },
        "id": "MZonUDrzAKY5",
        "outputId": "3d061614-cee6-4fd1-cb9f-7e961d43a76d"
      },
      "execution_count": null,
      "outputs": [
        {
          "output_type": "stream",
          "name": "stdout",
          "text": [
            "tr-test split \t0.5705\n",
            "best_depth \t0.5084\n",
            "best_leaf \t0.4983\n",
            "depth leaf \t0.4983\n",
            "RandomForest \t0.4644\n",
            "RandomForest2 \t0.4519\n"
          ]
        }
      ]
    }
  ]
}